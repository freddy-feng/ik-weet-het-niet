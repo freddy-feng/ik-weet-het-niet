{
 "cells": [
  {
   "cell_type": "markdown",
   "id": "0696c386-bb77-4ded-9b9b-b560fbf51b1f",
   "metadata": {},
   "source": [
    "# flashcard system\n",
    "\n",
    "- class\n",
    "    - data structure\n",
    "        - instances in deck: [*face, {back: link, art, conj}, box_id, n_visit, n_rep, easiness, {grades}, interval, last visit]\n",
    "        - fx update stat\n",
    "        - fx calc stat\n",
    "        - fx initialize new deck \n",
    "\n",
    "- algorithm\n",
    "    - box based = Leitner\n",
    "    - interval based = SM-2 https://en.wikipedia.org/wiki/SuperMemo#Description_of_SM-2_algorithm\n",
    "    \n",
    "- streamlit\n",
    "    - in --> select practice alg = leitner or sm2 or random/debug\n",
    "    - in --> select length of practice\n",
    "    - for leitner\n",
    "        - calc avg time since last visit on average\n",
    "        - in --> user select box\n",
    "    - for sm2\n",
    "        - filter interval < last_visit, and sort\n",
    "    - start practice session, play deck\n",
    "        - generate key list for current session, randomize order\n",
    "        - repeat for length of practice\n",
    "            - display word\n",
    "            - in --> user enter score\n",
    "            - display answer / link to woordenboek / freq rank / stat\n",
    "            - update stat\n",
    "    - save csv to local directory\n",
    "    - in --> select deck (lower priority)\n",
    "    - others\n",
    "        - in --> view deck (less impotant)\n",
    "        - in --> view deck stats, best, worst\n",
    "        - in --> add new entry to deck (less important)\n",
    "    \n",
    "\n",
    "\n",
    "\n",
    "psuedo code\n",
    "\n",
    "\n"
   ]
  }
 ],
 "metadata": {
  "kernelspec": {
   "display_name": "Python 3 (ipykernel)",
   "language": "python",
   "name": "python3"
  },
  "language_info": {
   "codemirror_mode": {
    "name": "ipython",
    "version": 3
   },
   "file_extension": ".py",
   "mimetype": "text/x-python",
   "name": "python",
   "nbconvert_exporter": "python",
   "pygments_lexer": "ipython3",
   "version": "3.9.13"
  }
 },
 "nbformat": 4,
 "nbformat_minor": 5
}
