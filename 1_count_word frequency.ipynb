{
 "cells": [
  {
   "cell_type": "code",
   "execution_count": 3,
   "id": "bb7b9c0c-2cf8-4acf-9a28-f22af28cba00",
   "metadata": {},
   "outputs": [],
   "source": [
    "import os\n",
    "import pandas as pd\n",
    "import numpy as np\n",
    "import matplotlib.pyplot as plt\n",
    "import seaborn as sns\n",
    "from collections import Counter\n",
    "import time\n",
    "import nltk\n",
    "#nltk.download('punkt') # Install first time"
   ]
  },
  {
   "cell_type": "markdown",
   "id": "38f65f90-8c80-4479-ae95-328b29a4852f",
   "metadata": {
    "tags": []
   },
   "source": [
    "# Generate word frequency list from NOS news articles"
   ]
  },
  {
   "cell_type": "code",
   "execution_count": 4,
   "id": "615eea2e-292e-4da0-914e-8c997c78739f",
   "metadata": {},
   "outputs": [],
   "source": [
    "subfolder_name = 'raw'\n",
    "csv_file_name = 'dutch-news-articles.csv'\n",
    "csv_file_path = os.path.join(os.getcwd(), subfolder_name, csv_file_name)\n",
    "\n",
    "chunk_size = 10000\n",
    "\n",
    "# Tokenize a string of words and remove symbols and numerals\n",
    "def tokenize_and_clean(text):\n",
    "    tokens = nltk.word_tokenize(text)\n",
    "    cleaned_tokens = [token.lower() for token in tokens if token.isalpha()]\n",
    "    return cleaned_tokens"
   ]
  },
  {
   "cell_type": "code",
   "execution_count": 5,
   "id": "ed46c99d-f7a9-4b1c-9908-5256e2abf227",
   "metadata": {},
   "outputs": [],
   "source": [
    "# Measure the time it takes to read the CSV file in chunks\n",
    "start_time = time.time()\n",
    "\n",
    "# Import csv in chunks\n",
    "df_chunks = pd.read_csv(csv_file_path, chunksize=chunk_size)\n",
    "\n",
    "all_tokens = [] # Containing strings from all chunks\n",
    "\n",
    "for df in df_chunks:\n",
    "    # Tokenize and clean the text in the third column\n",
    "    # for each row of the dataframe\n",
    "    tokens_list = [] # Nested list of strings in single chunk\n",
    "\n",
    "    for text in df.iloc[:,2]:\n",
    "        tokens = tokenize_and_clean(text)\n",
    "        tokens_list.append(tokens)\n",
    "        \n",
    "    # Remove any empty lists from tokens_list\n",
    "    tokens_list = [x for x in tokens_list if x]\n",
    "    \n",
    "    # Append the cleaned tokens list to the all_tokens list\n",
    "    all_tokens.extend(tokens_list)\n",
    "    \n",
    "# Flatten the nested list\n",
    "merged_list = [item for sublist in all_tokens for item in sublist]\n",
    "\n",
    "end_time = time.time()\n",
    "\n",
    "total_time_chunks = end_time - start_time"
   ]
  },
  {
   "cell_type": "code",
   "execution_count": 6,
   "id": "5a0e99f2-4334-4ff6-96e2-e1965d60f771",
   "metadata": {},
   "outputs": [],
   "source": [
    "# Generate frequency table\n",
    "freq_table = pd.Series(merged_list).value_counts()\n",
    "freq_df = pd.DataFrame({'string': freq_table.index, 'count':freq_table.values})\n",
    "freq_df = freq_df.sort_values('count', ascending=False)"
   ]
  },
  {
   "cell_type": "code",
   "execution_count": 8,
   "id": "19283b34-dceb-4900-b03e-4adef11a81d3",
   "metadata": {},
   "outputs": [],
   "source": [
    "# Print the most frequent words\n",
    "#print(freq_df.head(20))"
   ]
  },
  {
   "cell_type": "code",
   "execution_count": 7,
   "id": "363f4424-4e9d-4754-94e9-423e9152e7cd",
   "metadata": {},
   "outputs": [],
   "source": [
    "out_subfolder_name = 'data'\n",
    "out_file_name = 'word_freq_dutch-news-articles.csv'\n",
    "out_file_path = os.path.join(os.getcwd(), out_subfolder_name, out_file_name)\n",
    "\n",
    "freq_df.to_csv(out_file_path, index=False)"
   ]
  },
  {
   "cell_type": "markdown",
   "id": "73526ee0-5ead-4fac-a2f7-ee23eafb4385",
   "metadata": {},
   "source": [
    "# Explore and visualize the word statistics"
   ]
  },
  {
   "cell_type": "code",
   "execution_count": 8,
   "id": "2fb557b5-7a5d-437f-a629-013f2d658c15",
   "metadata": {},
   "outputs": [],
   "source": [
    "import seaborn as sns\n",
    "import matplotlib.pyplot as plt"
   ]
  },
  {
   "cell_type": "code",
   "execution_count": 9,
   "id": "8995b6f9-a307-4840-b773-52e456d02a3c",
   "metadata": {},
   "outputs": [],
   "source": [
    "threshold = 1000"
   ]
  },
  {
   "cell_type": "code",
   "execution_count": 10,
   "id": "441bd311-3db3-40b7-81e7-15882eb6b557",
   "metadata": {},
   "outputs": [
    {
     "data": {
      "text/html": [
       "<div>\n",
       "<style scoped>\n",
       "    .dataframe tbody tr th:only-of-type {\n",
       "        vertical-align: middle;\n",
       "    }\n",
       "\n",
       "    .dataframe tbody tr th {\n",
       "        vertical-align: top;\n",
       "    }\n",
       "\n",
       "    .dataframe thead th {\n",
       "        text-align: right;\n",
       "    }\n",
       "</style>\n",
       "<table border=\"1\" class=\"dataframe\">\n",
       "  <thead>\n",
       "    <tr style=\"text-align: right;\">\n",
       "      <th></th>\n",
       "      <th>string</th>\n",
       "      <th>count</th>\n",
       "    </tr>\n",
       "  </thead>\n",
       "  <tbody>\n",
       "    <tr>\n",
       "      <th>0</th>\n",
       "      <td>de</td>\n",
       "      <td>4325094</td>\n",
       "    </tr>\n",
       "    <tr>\n",
       "      <th>1</th>\n",
       "      <td>het</td>\n",
       "      <td>2018459</td>\n",
       "    </tr>\n",
       "    <tr>\n",
       "      <th>2</th>\n",
       "      <td>van</td>\n",
       "      <td>1905087</td>\n",
       "    </tr>\n",
       "    <tr>\n",
       "      <th>3</th>\n",
       "      <td>een</td>\n",
       "      <td>1568353</td>\n",
       "    </tr>\n",
       "    <tr>\n",
       "      <th>4</th>\n",
       "      <td>in</td>\n",
       "      <td>1566942</td>\n",
       "    </tr>\n",
       "    <tr>\n",
       "      <th>5</th>\n",
       "      <td>en</td>\n",
       "      <td>1170966</td>\n",
       "    </tr>\n",
       "    <tr>\n",
       "      <th>6</th>\n",
       "      <td>dat</td>\n",
       "      <td>1073303</td>\n",
       "    </tr>\n",
       "    <tr>\n",
       "      <th>7</th>\n",
       "      <td>is</td>\n",
       "      <td>918625</td>\n",
       "    </tr>\n",
       "    <tr>\n",
       "      <th>8</th>\n",
       "      <td>op</td>\n",
       "      <td>753944</td>\n",
       "    </tr>\n",
       "    <tr>\n",
       "      <th>9</th>\n",
       "      <td>zijn</td>\n",
       "      <td>678301</td>\n",
       "    </tr>\n",
       "  </tbody>\n",
       "</table>\n",
       "</div>"
      ],
      "text/plain": [
       "  string    count\n",
       "0     de  4325094\n",
       "1    het  2018459\n",
       "2    van  1905087\n",
       "3    een  1568353\n",
       "4     in  1566942\n",
       "5     en  1170966\n",
       "6    dat  1073303\n",
       "7     is   918625\n",
       "8     op   753944\n",
       "9   zijn   678301"
      ]
     },
     "execution_count": 10,
     "metadata": {},
     "output_type": "execute_result"
    }
   ],
   "source": [
    "# Rank 1 - 5\n",
    "freq_df.iloc[:threshold, :].head(10)"
   ]
  },
  {
   "cell_type": "code",
   "execution_count": 11,
   "id": "de9ae2d7-5e50-4939-9b76-0c20a4b42554",
   "metadata": {},
   "outputs": [
    {
     "data": {
      "text/html": [
       "<div>\n",
       "<style scoped>\n",
       "    .dataframe tbody tr th:only-of-type {\n",
       "        vertical-align: middle;\n",
       "    }\n",
       "\n",
       "    .dataframe tbody tr th {\n",
       "        vertical-align: top;\n",
       "    }\n",
       "\n",
       "    .dataframe thead th {\n",
       "        text-align: right;\n",
       "    }\n",
       "</style>\n",
       "<table border=\"1\" class=\"dataframe\">\n",
       "  <thead>\n",
       "    <tr style=\"text-align: right;\">\n",
       "      <th></th>\n",
       "      <th>string</th>\n",
       "      <th>count</th>\n",
       "    </tr>\n",
       "  </thead>\n",
       "  <tbody>\n",
       "    <tr>\n",
       "      <th>990</th>\n",
       "      <td>boord</td>\n",
       "      <td>6138</td>\n",
       "    </tr>\n",
       "    <tr>\n",
       "      <th>991</th>\n",
       "      <td>coalitie</td>\n",
       "      <td>6129</td>\n",
       "    </tr>\n",
       "    <tr>\n",
       "      <th>992</th>\n",
       "      <td>interview</td>\n",
       "      <td>6113</td>\n",
       "    </tr>\n",
       "    <tr>\n",
       "      <th>993</th>\n",
       "      <td>tegenover</td>\n",
       "      <td>6110</td>\n",
       "    </tr>\n",
       "    <tr>\n",
       "      <th>994</th>\n",
       "      <td>neer</td>\n",
       "      <td>6092</td>\n",
       "    </tr>\n",
       "    <tr>\n",
       "      <th>995</th>\n",
       "      <td>wereldwijd</td>\n",
       "      <td>6082</td>\n",
       "    </tr>\n",
       "    <tr>\n",
       "      <th>996</th>\n",
       "      <td>oog</td>\n",
       "      <td>6073</td>\n",
       "    </tr>\n",
       "    <tr>\n",
       "      <th>997</th>\n",
       "      <td>centrale</td>\n",
       "      <td>6068</td>\n",
       "    </tr>\n",
       "    <tr>\n",
       "      <th>998</th>\n",
       "      <td>onlangs</td>\n",
       "      <td>6066</td>\n",
       "    </tr>\n",
       "    <tr>\n",
       "      <th>999</th>\n",
       "      <td>banen</td>\n",
       "      <td>6057</td>\n",
       "    </tr>\n",
       "  </tbody>\n",
       "</table>\n",
       "</div>"
      ],
      "text/plain": [
       "         string  count\n",
       "990       boord   6138\n",
       "991    coalitie   6129\n",
       "992   interview   6113\n",
       "993   tegenover   6110\n",
       "994        neer   6092\n",
       "995  wereldwijd   6082\n",
       "996         oog   6073\n",
       "997    centrale   6068\n",
       "998     onlangs   6066\n",
       "999       banen   6057"
      ]
     },
     "execution_count": 11,
     "metadata": {},
     "output_type": "execute_result"
    }
   ],
   "source": [
    "# Rank 995 - 999\n",
    "freq_df.iloc[:threshold, :].tail(10)"
   ]
  },
  {
   "cell_type": "code",
   "execution_count": 12,
   "id": "92cf4160-f575-4479-b3cd-5f4f565219a5",
   "metadata": {},
   "outputs": [
    {
     "data": {
      "text/html": [
       "<div>\n",
       "<style scoped>\n",
       "    .dataframe tbody tr th:only-of-type {\n",
       "        vertical-align: middle;\n",
       "    }\n",
       "\n",
       "    .dataframe tbody tr th {\n",
       "        vertical-align: top;\n",
       "    }\n",
       "\n",
       "    .dataframe thead th {\n",
       "        text-align: right;\n",
       "    }\n",
       "</style>\n",
       "<table border=\"1\" class=\"dataframe\">\n",
       "  <thead>\n",
       "    <tr style=\"text-align: right;\">\n",
       "      <th></th>\n",
       "      <th>string</th>\n",
       "      <th>count</th>\n",
       "    </tr>\n",
       "  </thead>\n",
       "  <tbody>\n",
       "    <tr>\n",
       "      <th>999</th>\n",
       "      <td>banen</td>\n",
       "      <td>6057</td>\n",
       "    </tr>\n",
       "  </tbody>\n",
       "</table>\n",
       "</div>"
      ],
      "text/plain": [
       "    string  count\n",
       "999  banen   6057"
      ]
     },
     "execution_count": 12,
     "metadata": {},
     "output_type": "execute_result"
    }
   ],
   "source": [
    "# Check if there's any entry with same count as the threshold entry\n",
    "count_threshold = int(freq_df.iloc[(threshold-1):threshold, 1])\n",
    "freq_df[freq_df['count'] == count_threshold]"
   ]
  },
  {
   "cell_type": "code",
   "execution_count": 85,
   "id": "125ffa69-2b0b-43b5-adff-40fb080d0742",
   "metadata": {},
   "outputs": [
    {
     "data": {
      "image/png": "[encoded data removed]",
      "text/plain": [
       "<Figure size 600x400 with 1 Axes>"
      ]
     },
     "metadata": {},
     "output_type": "display_data"
    }
   ],
   "source": [
    "plot_df = freq_df.iloc[:threshold, :]\n",
    "\n",
    "sns.set_style(\"whitegrid\")\n",
    "\n",
    "fig, ax = plt.subplots(figsize=(6, 4))\n",
    "\n",
    "ax = sns.lineplot(\n",
    "    data=plot_df, x=plot_df.index, y='count'\n",
    ")\n",
    "\n",
    "sns.despine(left=True, bottom=True)\n",
    "\n",
    "plt.title('Word frequency in NOS online news articles (2010 - 2022)')\n",
    "plt.xlabel('Rank of frequency')\n",
    "plt.ylabel('Count')\n",
    "plt.yscale('log')\n",
    "\n",
    "plt.tight_layout()\n",
    "\n",
    "plt.show()"
   ]
  },
  {
   "cell_type": "code",
   "execution_count": 83,
   "id": "125adaf6-4da3-403f-8580-6b81c03e1500",
   "metadata": {},
   "outputs": [],
   "source": [
    "# Save plot\n",
    "out_subfolder_name = 'fig'\n",
    "out_file_name = 'word_freq_line.png'\n",
    "out_file_path = os.path.join(os.getcwd(), out_subfolder_name, out_file_name)\n",
    "\n",
    "fig.savefig(out_file_path)"
   ]
  },
  {
   "cell_type": "markdown",
   "id": "7907f9e5-0897-42b3-9879-f40193d0fcc2",
   "metadata": {},
   "source": [
    "# Works to do\n",
    "- More meaningful contents for flashcards\n",
    "    - Scrap from dictionary e.g. woordenboek.org or other reliable sources that the flashcards also come with the following:\n",
    "        1. Definition / explaination for the word. Need to deal with multiple meanings.\n",
    "        2. The article (de vs het) corresponding to nouns and append to the flashcard. Article is so important yet irregular enough that can benefit from spaced repetition / memory practice\n",
    "\n",
    "- More stats\n",
    "     1. Further check the statistics of the most frequent words by their grammatical function\n",
    "     2. Find out the \"trend words\" of the year i.e. excluding most common ones\n",
    "\n",
    "- Word list from dutch lessons\n",
    "     1. 1000 most common words from Bart de Pau\n",
    "     2. Dutchies to be transcripts\n",
    "\n",
    "- Ideas specific / theme based word list\n",
    "     1. Politics e.g. political speech, eerste kamer etc.\n",
    "     2. Economics and finance\n",
    "     3. Engineering\n",
    "     4. Statistics\n",
    "     5. Commercial\n",
    "     6. Voorbelen voor inburgeringsexamen\n",
    "     7. Corpus from hmmm... \n",
    "     8. Books in public domain?\n",
    "     9. Focus on news title instead of news content\n",
    "     10. Recipe or boodschappen inspired by geheugentreiner\n",
    "     11. Particular text\n",
    "     12. Music lyrics\n",
    "     \n",
    "- Implement the flashcard using streamlit / react"
   ]
  }
 ],
 "metadata": {
  "kernelspec": {
   "display_name": "Python 3 (ipykernel)",
   "language": "python",
   "name": "python3"
  },
  "language_info": {
   "codemirror_mode": {
    "name": "ipython",
    "version": 3
   },
   "file_extension": ".py",
   "mimetype": "text/x-python",
   "name": "python",
   "nbconvert_exporter": "python",
   "pygments_lexer": "ipython3",
   "version": "3.9.13"
  }
 },
 "nbformat": 4,
 "nbformat_minor": 5
}
