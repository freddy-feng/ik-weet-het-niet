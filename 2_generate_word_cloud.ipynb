{
 "cells": [
  {
   "cell_type": "code",
   "execution_count": 3,
   "id": "999c4458-f4dd-42b4-ab53-20ef6369184d",
   "metadata": {},
   "outputs": [],
   "source": [
    "import os\n",
    "import pandas as pd\n",
    "import numpy as np\n",
    "from wordcloud import WordCloud\n",
    "import matplotlib.pyplot as plt\n",
    "import imageio\n",
    "import random"
   ]
  },
  {
   "cell_type": "code",
   "execution_count": 6,
   "id": "401a505b-e110-4578-b418-f39624b36eef",
   "metadata": {},
   "outputs": [],
   "source": [
    "# Set params\n",
    "seed = 721 # Seed for randomize the word cloud and words in each frame\n",
    "n_word = 100 # No. of words to display in a frame\n",
    "threshold = 1000 # No. of words from full freq list\n",
    "\n",
    "subfolder_name = 'data'\n",
    "csv_file_name = 'word_freq_dutch-news-articles.csv'\n",
    "csv_file_path = os.path.join(os.getcwd(), subfolder_name, csv_file_name)"
   ]
  },
  {
   "cell_type": "code",
   "execution_count": 7,
   "id": "71157db1-fdf2-447c-a94a-6b5a71f60488",
   "metadata": {},
   "outputs": [],
   "source": [
    "# Import data\n",
    "freq_df = pd.read_csv(csv_file_path)\n",
    "plot_df = freq_df.iloc[:threshold, :]\n",
    "#plot_df.shape # For checking"
   ]
  },
  {
   "cell_type": "code",
   "execution_count": 8,
   "id": "e38a266d-8167-4adb-8ec6-0abcef545489",
   "metadata": {},
   "outputs": [],
   "source": [
    "# Convert string column in dataframe to a word list\n",
    "word_list = plot_df['string'].values.tolist()\n",
    "\n",
    "# Set up the parameters for the word cloud\n",
    "wc = WordCloud(\n",
    "    width=800, height=800, \n",
    "    background_color='silver', \n",
    "    colormap='flag',\n",
    "    max_words=n_word, \n",
    "    random_state=seed)\n",
    "\n",
    "# Create a list to store each frame of the gif\n",
    "frames = []"
   ]
  },
  {
   "cell_type": "code",
   "execution_count": 9,
   "id": "44300498-8dd6-4a3c-8416-a7c5e02fa5af",
   "metadata": {},
   "outputs": [],
   "source": [
    "# Sample a sublist and display as word cloud\n",
    "random.seed(seed)\n",
    "n_frame = 10\n",
    "\n",
    "for i in range(n_frame):\n",
    "    \n",
    "    # Select 10 random words from the group\n",
    "    words = random.sample(word_list, n_word)\n",
    "    # Create the word cloud\n",
    "    wc.generate(' '.join(words))\n",
    "    # Convert the word cloud to an image and add it to the list of frames\n",
    "    frames.append(np.array(wc.to_image()))"
   ]
  },
  {
   "cell_type": "code",
   "execution_count": 14,
   "id": "b3ef28c9-049c-4d33-9c29-4c125a9a823b",
   "metadata": {},
   "outputs": [],
   "source": [
    "# Create the gif\n",
    "subfolder_name = 'gif'\n",
    "out_file_name = 'word_cloud.gif'\n",
    "out_file_path = os.path.join(os.getcwd(), subfolder_name, out_file_name)\n",
    "imageio.mimsave(out_file_path, frames, duration=2)"
   ]
  },
  {
   "cell_type": "markdown",
   "id": "baeecc4e-54d9-4c8d-80f8-14bbcc403705",
   "metadata": {},
   "source": [
    "# Reference\n",
    "\n",
    "WordCloud for Python documentation https://amueller.github.io/word_cloud/"
   ]
  }
 ],
 "metadata": {
  "kernelspec": {
   "display_name": "Python 3 (ipykernel)",
   "language": "python",
   "name": "python3"
  },
  "language_info": {
   "codemirror_mode": {
    "name": "ipython",
    "version": 3
   },
   "file_extension": ".py",
   "mimetype": "text/x-python",
   "name": "python",
   "nbconvert_exporter": "python",
   "pygments_lexer": "ipython3",
   "version": "3.9.13"
  }
 },
 "nbformat": 4,
 "nbformat_minor": 5
}
